{
 "cells": [
  {
   "cell_type": "markdown",
   "metadata": {},
   "source": [
    "Assignment 1 (due on 10/25)  \n",
    "学生：蓝仲依 (12332283)，Github: LanZhongyi  \n",
    "批改人：Zhao Shuhui  \n",
    "得分：99/100  "
   ]
  },
  {
   "cell_type": "markdown",
   "metadata": {},
   "source": [
    "# PS1_1 \n",
    "9/10  \n",
    "1.创建了Print_values(a,b,c)方法 -1    题干要求方法有输入参数a,b,c；且建议将a,b,c和结果一同输出方便检查  \n",
    "2.4种输出情况都能满足   √  \n",
    "3.报告里列出部分例子（此项本次不扣分仅提醒）    √"
   ]
  },
  {
   "cell_type": "code",
   "execution_count": 8,
   "metadata": {},
   "outputs": [
    {
     "name": "stdout",
     "output_type": "stream",
     "text": [
      "(8.0, 5.0, 4.0)\n"
     ]
    }
   ],
   "source": [
    "# %load PS1_1.py\n",
    "a = float(input(\"Please write down the first number: \"))\n",
    "b = float(input(\"Please write down the second number: \"))\n",
    "c = float(input(\"Please write down the third number: \"))\n",
    "\n",
    "def Print_values():\n",
    "\n",
    "    if a > b:\n",
    "        if b > c:\n",
    "            return a, b, c\n",
    "        elif a > c:\n",
    "            return a, c, b\n",
    "        else:\n",
    "            return c, a, b\n",
    "    elif b > c:\n",
    "        if a > c:\n",
    "            return b, a, c\n",
    "        else:\n",
    "            return b, c, a\n",
    "    else:\n",
    "        return c, b, a\n",
    "    \n",
    "print(Print_values())\n"
   ]
  },
  {
   "cell_type": "markdown",
   "metadata": {},
   "source": [
    "# PS1_2\n",
    "15/15  \n",
    "1.能自行创建矩阵M1(5行10列)和M2(10行5列)    √  \n",
    "2.M1, M2的数值范围为0到50的整数 √  \n",
    "3.创建能进行矩阵乘法的方法Matrix_multip()   √  \n",
    "4.方法内仅使用for循环, *和+运算符   √  \n",
    "5.报告里列出部分例子（此项本次不扣分仅提醒）    √"
   ]
  },
  {
   "cell_type": "code",
   "execution_count": 22,
   "metadata": {},
   "outputs": [
    {
     "name": "stdout",
     "output_type": "stream",
     "text": [
      "[[21 32 17 22 25 16 32 49  4 48]\n",
      " [ 8 31 36 37 41  7 41  1 16  0]\n",
      " [ 3 24 11 45 36 15  3 14 44 41]\n",
      " [30 14 32 36 20 46 22 21 44  1]\n",
      " [ 9 38 25 48 34 28 18 29 24 21]]\n",
      "[[41  6 33  8 29]\n",
      " [ 6 22 13 20 14]\n",
      " [ 5 42  1 17 50]\n",
      " [15 50 24 18 19]\n",
      " [ 8 13 50 15  9]\n",
      " [11 26  8  5  6]\n",
      " [15 37 19  6 27]\n",
      " [ 1 44 46 28 48]\n",
      " [30 37 32 10 31]\n",
      " [50  9 34 41  4]]\n",
      "[[4893. 7305. 7654. 5520. 6178.]\n",
      " [2750. 6960. 5034. 3046. 5231.]\n",
      " [4879. 6840. 6925. 4647. 4523.]\n",
      " [4401. 8463. 6262. 3443. 6776.]\n",
      " [4091. 8529. 7050. 4792. 6135.]]\n"
     ]
    }
   ],
   "source": [
    "# %load PS1_2.py\n",
    "import numpy as np\n",
    "\n",
    "arr1 = np.random.randint(0, 51, 50)\n",
    "arr2 = np.random.randint(0, 51, 50)\n",
    "M1 = arr1.reshape(5, 10)\n",
    "M2 = arr2.reshape(10, 5)\n",
    "print(M1)\n",
    "print(M2)\n",
    "\n",
    "def Matrix_multip():\n",
    "    M = np.zeros((5, 5))\n",
    "    for m in range(5):\n",
    "        for l in range(5): \n",
    "            for n in range(10):            \n",
    "                M[m,l] += M1[m,n]*M2[n,l]\n",
    "    return M\n",
    "\n",
    "print(Matrix_multip())"
   ]
  },
  {
   "cell_type": "code",
   "execution_count": 23,
   "metadata": {},
   "outputs": [
    {
     "name": "stdout",
     "output_type": "stream",
     "text": [
      "[[ True  True  True  True  True]\n",
      " [ True  True  True  True  True]\n",
      " [ True  True  True  True  True]\n",
      " [ True  True  True  True  True]\n",
      " [ True  True  True  True  True]]\n"
     ]
    }
   ],
   "source": [
    "#TA test\n",
    "print(np.matmul(M1,M2)==Matrix_multip())"
   ]
  },
  {
   "cell_type": "markdown",
   "metadata": {},
   "source": [
    "# PS1_3\n",
    "20/20  \n",
    "1.创建了Pascal_triangle(k)方法  √  \n",
    "2.能够输出第n行的Pascal_triangle    √  \n",
    "3.报告里列出k=100和200的情况（此项本次不扣分仅提醒）    √"
   ]
  },
  {
   "cell_type": "code",
   "execution_count": 11,
   "metadata": {},
   "outputs": [
    {
     "name": "stdout",
     "output_type": "stream",
     "text": [
      "1.0\n",
      "99.0\n",
      "4851.0\n",
      "156849.0\n",
      "3764376.0\n",
      "71523144.0\n",
      "1120529256.0\n",
      "14887031544.0\n",
      "171200862756.0\n",
      "1731030945644.0\n",
      "15579278510796.0\n",
      "126050526132804.0\n",
      "924370524973896.0\n",
      "6186171974825304.0\n",
      "3.8000770702498296e+16\n",
      "2.1533770064749034e+17\n",
      "1.1305229283993243e+18\n",
      "5.519611944537878e+18\n",
      "2.514489885845033e+19\n",
      "1.0719667408076194e+20\n",
      "4.2878669632304775e+20\n",
      "1.6130547147390845e+21\n",
      "5.719012170438572e+21\n",
      "1.914625813581609e+22\n",
      "6.062981743008428e+22\n",
      "1.8188945229025285e+23\n",
      "5.1768536421071965e+23\n",
      "1.3996678365697236e+24\n",
      "3.599145865465003e+24\n",
      "8.811701946483283e+24\n",
      "2.0560637875127662e+25\n",
      "4.576400043173577e+25\n",
      "9.72485009174385e+25\n",
      "1.974439261051024e+26\n",
      "3.8327350361578704e+26\n",
      "7.117936495721758e+26\n",
      "1.265410932572757e+27\n",
      "2.154618614921181e+27\n",
      "3.515430371713506e+27\n",
      "5.498493658321124e+27\n",
      "8.247740487481687e+27\n",
      "1.1868699725888282e+28\n",
      "1.6390109145274292e+28\n",
      "2.1726423750712436e+28\n",
      "2.765181204636128e+28\n",
      "3.37966591677749e+28\n",
      "3.96743390230401e+28\n",
      "4.473914826002394e+28\n",
      "4.846741061502594e+28\n",
      "5.04456722727821e+28\n",
      "5.04456722727821e+28\n",
      "4.846741061502594e+28\n",
      "4.473914826002394e+28\n",
      "3.96743390230401e+28\n",
      "3.37966591677749e+28\n",
      "2.765181204636128e+28\n",
      "2.1726423750712436e+28\n",
      "1.6390109145274292e+28\n",
      "1.1868699725888282e+28\n",
      "8.247740487481687e+27\n",
      "5.498493658321124e+27\n",
      "3.515430371713506e+27\n",
      "2.154618614921181e+27\n",
      "1.265410932572757e+27\n",
      "7.117936495721758e+26\n",
      "3.8327350361578704e+26\n",
      "1.974439261051024e+26\n",
      "9.72485009174385e+25\n",
      "4.576400043173577e+25\n",
      "2.0560637875127662e+25\n",
      "8.811701946483283e+24\n",
      "3.599145865465003e+24\n",
      "1.3996678365697236e+24\n",
      "5.1768536421071965e+23\n",
      "1.8188945229025285e+23\n",
      "6.062981743008428e+22\n",
      "1.914625813581609e+22\n",
      "5.719012170438572e+21\n",
      "1.6130547147390845e+21\n",
      "4.2878669632304775e+20\n",
      "1.0719667408076194e+20\n",
      "2.514489885845033e+19\n",
      "5.519611944537878e+18\n",
      "1.1305229283993243e+18\n",
      "2.1533770064749034e+17\n",
      "3.8000770702498296e+16\n",
      "6186171974825304.0\n",
      "924370524973896.0\n",
      "126050526132804.0\n",
      "15579278510796.0\n",
      "1731030945644.0\n",
      "171200862756.0\n",
      "14887031544.0\n",
      "1120529256.0\n",
      "71523144.0\n",
      "3764376.0\n",
      "156849.0\n",
      "4851.0\n",
      "99.0\n",
      "1.0\n",
      "None\n"
     ]
    }
   ],
   "source": [
    "# %load PS1_3.py\n",
    "# 定义一个用于计算阶乘的函数\n",
    "def factorial(n):\n",
    "    y = 1\n",
    "    for i in range(1, n+1):\n",
    "        y = y * i        \n",
    "    return y\n",
    "\n",
    "\n",
    "def Pascal_triangle(k):\n",
    "    for i in range(1, k+1):\n",
    "        # 第k行第i个数的值\n",
    "        x_ki = factorial(k-1) / (factorial(i-1) * factorial(k-i))\n",
    "        print(x_ki)\n",
    "\n",
    "print(Pascal_triangle(100))\n",
    "print(Pascal_triangle(200))"
   ]
  },
  {
   "cell_type": "markdown",
   "metadata": {},
   "source": [
    "# PS1_4\n",
    "20/20  \n",
    "1.创建了Least_moves(x)方法  √  \n",
    "2.方法能满足题目要求，且把结果print出来 √  \n",
    "3.报告里列出部分例子（此项本次不扣分仅提醒）    √"
   ]
  },
  {
   "cell_type": "code",
   "execution_count": 24,
   "metadata": {},
   "outputs": [
    {
     "name": "stdout",
     "output_type": "stream",
     "text": [
      "3\n",
      "8\n"
     ]
    }
   ],
   "source": [
    "# %load PS1_4.py\n",
    "def Least_moves(x):\n",
    "    n = 0\n",
    "    while x > 1:\n",
    "        if x %2 == 0:\n",
    "            x = x / 2\n",
    "        else:\n",
    "            x = x - 1\n",
    "        n = n + 1\n",
    "    return n\n",
    "\n",
    "print(Least_moves(5))\n",
    "print(Least_moves(60))"
   ]
  },
  {
   "cell_type": "markdown",
   "metadata": {},
   "source": [
    "# PS1_5\n",
    "35/35  \n",
    "1.创建了Find_expression(x)方法  √  \n",
    "2.方法满足题目要求，可以计算1到100的所有可能性组合，数字保持顺序    √  \n",
    "3.将所有可能性组合数放到名为Total_solutions的list里，并plot，找出可能性组合数最多和最少的数 √  \n",
    "4.报告里列出部分例子（此项本次不扣分仅提醒）    √  \n",
    "建议import不要写在方法里，否则每运行一次方法都要import一次；当函数不想要返回值或返回值没意义时，可以只写return。"
   ]
  },
  {
   "cell_type": "code",
   "execution_count": 27,
   "metadata": {},
   "outputs": [
    {
     "name": "stdout",
     "output_type": "stream",
     "text": [
      "1+2+3+4-56+7+89=50\n",
      "1+2+3-4+56-7+8-9=50\n",
      "1+2+34-5-6+7+8+9=50\n",
      "1+2+34-56+78-9=50\n",
      "1+2-3+4+56+7-8-9=50\n",
      "1+2-34+5-6-7+89=50\n",
      "1-2+3-45+6+78+9=50\n",
      "1-2+34+5+6+7+8-9=50\n",
      "1-2+34-5-67+89=50\n",
      "1-2-3+4+56-7-8+9=50\n",
      "1-2-3-4-5-6+78-9=50\n",
      "1-2-34-5-6+7+89=50\n",
      "1-23+4+5-6+78-9=50\n",
      "1-23-4-5-6+78+9=50\n",
      "12+3+4-56+78+9=50\n",
      "12-3+45+6+7-8-9=50\n",
      "12-3-4-5+67-8-9=50\n"
     ]
    },
    {
     "data": {
      "text/plain": [
       "'123456789'"
      ]
     },
     "execution_count": 27,
     "metadata": {},
     "output_type": "execute_result"
    }
   ],
   "source": [
    "# %load PS1_5.py\n",
    "# PS1_5.1\n",
    "digits = ['1', '2', '3', '4', '5', '6', '7', '8', '9']\n",
    "operators = ['+', '-', '']\n",
    "def Find_expression(x):\n",
    "    import itertools\n",
    "    for op1, op2, op3, op4, op5, op6, op7, op8 in itertools.product(operators, repeat=8):    # 对8个空位进行operators的全排列\n",
    "        expression = digits[0]+op1+digits[1]+op2+digits[2]+op3+digits[3]+op4+digits[4]+op5+digits[5]+op6+digits[6]+op7+digits[7]+op8+digits[8]\n",
    "        if eval(expression) == x:    # eval()函数用于执行一个字符串表达式，并返回表达式的值\n",
    "            print(expression+'='+str(x))\n",
    "    return expression\n",
    "Find_expression(50)\n"
   ]
  },
  {
   "cell_type": "code",
   "execution_count": 28,
   "metadata": {},
   "outputs": [
    {
     "name": "stdout",
     "output_type": "stream",
     "text": [
      "[26, 11, 18, 8, 21, 12, 17, 8, 22, 12, 21, 11, 16, 15, 20, 8, 17, 11, 20, 15, 16, 11, 23, 18, 13, 14, 21, 15, 19, 17, 14, 19, 19, 7, 14, 19, 19, 17, 18, 16, 17, 18, 10, 15, 26, 18, 15, 16, 12, 17, 19, 9, 17, 21, 16, 13, 14, 16, 17, 17, 11, 13, 22, 14, 13, 15, 15, 15, 17, 7, 14, 17, 15, 12, 13, 14, 14, 14, 10, 9, 19, 12, 13, 13, 12, 11, 12, 6, 12, 14, 16, 13, 11, 11, 10, 11, 7, 9, 17, 11]\n"
     ]
    }
   ],
   "source": [
    "# PS1_5.2\n",
    "import itertools\n",
    "Total_solutions = []\n",
    "for i in range(1, 101):\n",
    "    n = 0\n",
    "    for op1, op2, op3, op4, op5, op6, op7, op8 in itertools.product(operators, repeat=8):\n",
    "        expression = digits[0]+op1+digits[1]+op2+digits[2]+op3+digits[3]+op4+digits[4]+op5+digits[5]+op6+digits[6]+op7+digits[7]+op8+digits[8]\n",
    "        if eval(expression) == i:\n",
    "            n += 1\n",
    "    Total_solutions.append(n)\n",
    "print(Total_solutions)\n"
   ]
  },
  {
   "cell_type": "code",
   "execution_count": 29,
   "metadata": {},
   "outputs": [
    {
     "data": {
      "image/png": "[encoded data removed]",
      "text/plain": [
       "<Figure size 432x288 with 1 Axes>"
      ]
     },
     "metadata": {
      "needs_background": "light"
     },
     "output_type": "display_data"
    },
    {
     "name": "stdout",
     "output_type": "stream",
     "text": [
      "1 yields the maximum of Total_solutions.\n",
      "45 yields the maximum of Total_solutions.\n",
      "88 yields the minimum of Total_solutions.\n"
     ]
    }
   ],
   "source": [
    "import matplotlib.pyplot as plt\n",
    "i_list = list(range(1, 101))\n",
    "# 创建一个图形  \n",
    "plt.figure()\n",
    "# 在图形上绘制折线图  \n",
    "plt.plot(i_list, Total_solutions)\n",
    "# 添加标题和轴标签  \n",
    "plt.title('Plot the list Total_solutions')  \n",
    "plt.xlabel('i')  \n",
    "plt.ylabel('Total solutions')\n",
    "# 显示图形  \n",
    "plt.show()\n",
    "\n",
    "for i in range(100):\n",
    "    if Total_solutions[i] == max(Total_solutions):\n",
    "        maximum = i + 1\n",
    "        print(str(maximum) + ' yields the maximum of Total_solutions.')\n",
    "    elif Total_solutions[i] == min(Total_solutions):\n",
    "        minimum = i + 1\n",
    "        print(str(minimum) + ' yields the minimum of Total_solutions.')\n",
    "    else:\n",
    "        pass"
   ]
  }
 ],
 "metadata": {
  "kernelspec": {
   "display_name": "py311",
   "language": "python",
   "name": "python3"
  },
  "language_info": {
   "codemirror_mode": {
    "name": "ipython",
    "version": 3
   },
   "file_extension": ".py",
   "mimetype": "text/x-python",
   "name": "python",
   "nbconvert_exporter": "python",
   "pygments_lexer": "ipython3",
   "version": "3.9.7"
  }
 },
 "nbformat": 4,
 "nbformat_minor": 2
}
